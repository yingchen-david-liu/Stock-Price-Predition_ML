{
 "cells": [
  {
   "cell_type": "code",
   "execution_count": 1,
   "id": "8e465805",
   "metadata": {},
   "outputs": [],
   "source": [
    "import numpy as np\n",
    "import pandas as pd\n",
    "import matplotlib.pyplot as plt\n",
    "from yahoo_fin.stock_info import *\n",
    "from sklearn.svm import SVR"
   ]
  },
  {
   "cell_type": "markdown",
   "id": "aefc5110",
   "metadata": {},
   "source": [
    "# Read data and create dataframe"
   ]
  },
  {
   "cell_type": "code",
   "execution_count": 16,
   "id": "9b177e2f",
   "metadata": {},
   "outputs": [
    {
     "data": {
      "text/html": [
       "<div>\n",
       "<style scoped>\n",
       "    .dataframe tbody tr th:only-of-type {\n",
       "        vertical-align: middle;\n",
       "    }\n",
       "\n",
       "    .dataframe tbody tr th {\n",
       "        vertical-align: top;\n",
       "    }\n",
       "\n",
       "    .dataframe thead th {\n",
       "        text-align: right;\n",
       "    }\n",
       "</style>\n",
       "<table border=\"1\" class=\"dataframe\">\n",
       "  <thead>\n",
       "    <tr style=\"text-align: right;\">\n",
       "      <th></th>\n",
       "      <th>open</th>\n",
       "      <th>high</th>\n",
       "      <th>low</th>\n",
       "      <th>close</th>\n",
       "      <th>adjclose</th>\n",
       "      <th>volume</th>\n",
       "      <th>ticker</th>\n",
       "      <th>5Day_Price_Forecast</th>\n",
       "    </tr>\n",
       "  </thead>\n",
       "  <tbody>\n",
       "    <tr>\n",
       "      <th>2022-01-03</th>\n",
       "      <td>177.830002</td>\n",
       "      <td>182.880005</td>\n",
       "      <td>177.710007</td>\n",
       "      <td>182.009995</td>\n",
       "      <td>181.259933</td>\n",
       "      <td>104487900</td>\n",
       "      <td>AAPL</td>\n",
       "      <td>172.190002</td>\n",
       "    </tr>\n",
       "    <tr>\n",
       "      <th>2022-01-04</th>\n",
       "      <td>182.630005</td>\n",
       "      <td>182.940002</td>\n",
       "      <td>179.119995</td>\n",
       "      <td>179.699997</td>\n",
       "      <td>178.959442</td>\n",
       "      <td>99310400</td>\n",
       "      <td>AAPL</td>\n",
       "      <td>175.080002</td>\n",
       "    </tr>\n",
       "    <tr>\n",
       "      <th>2022-01-05</th>\n",
       "      <td>179.610001</td>\n",
       "      <td>180.169998</td>\n",
       "      <td>174.639999</td>\n",
       "      <td>174.919998</td>\n",
       "      <td>174.199158</td>\n",
       "      <td>94537600</td>\n",
       "      <td>AAPL</td>\n",
       "      <td>175.529999</td>\n",
       "    </tr>\n",
       "    <tr>\n",
       "      <th>2022-01-06</th>\n",
       "      <td>172.699997</td>\n",
       "      <td>175.300003</td>\n",
       "      <td>171.639999</td>\n",
       "      <td>172.000000</td>\n",
       "      <td>171.291183</td>\n",
       "      <td>96904000</td>\n",
       "      <td>AAPL</td>\n",
       "      <td>172.190002</td>\n",
       "    </tr>\n",
       "    <tr>\n",
       "      <th>2022-01-07</th>\n",
       "      <td>172.889999</td>\n",
       "      <td>174.139999</td>\n",
       "      <td>171.029999</td>\n",
       "      <td>172.169998</td>\n",
       "      <td>171.460495</td>\n",
       "      <td>86709100</td>\n",
       "      <td>AAPL</td>\n",
       "      <td>173.070007</td>\n",
       "    </tr>\n",
       "    <tr>\n",
       "      <th>...</th>\n",
       "      <td>...</td>\n",
       "      <td>...</td>\n",
       "      <td>...</td>\n",
       "      <td>...</td>\n",
       "      <td>...</td>\n",
       "      <td>...</td>\n",
       "      <td>...</td>\n",
       "      <td>...</td>\n",
       "    </tr>\n",
       "    <tr>\n",
       "      <th>2022-09-26</th>\n",
       "      <td>149.660004</td>\n",
       "      <td>153.770004</td>\n",
       "      <td>149.639999</td>\n",
       "      <td>150.770004</td>\n",
       "      <td>150.770004</td>\n",
       "      <td>93339400</td>\n",
       "      <td>AAPL</td>\n",
       "      <td>NaN</td>\n",
       "    </tr>\n",
       "    <tr>\n",
       "      <th>2022-09-27</th>\n",
       "      <td>152.740005</td>\n",
       "      <td>154.720001</td>\n",
       "      <td>149.949997</td>\n",
       "      <td>151.759995</td>\n",
       "      <td>151.759995</td>\n",
       "      <td>84442700</td>\n",
       "      <td>AAPL</td>\n",
       "      <td>NaN</td>\n",
       "    </tr>\n",
       "    <tr>\n",
       "      <th>2022-09-28</th>\n",
       "      <td>147.639999</td>\n",
       "      <td>150.639999</td>\n",
       "      <td>144.839996</td>\n",
       "      <td>149.839996</td>\n",
       "      <td>149.839996</td>\n",
       "      <td>146691400</td>\n",
       "      <td>AAPL</td>\n",
       "      <td>NaN</td>\n",
       "    </tr>\n",
       "    <tr>\n",
       "      <th>2022-09-29</th>\n",
       "      <td>146.100006</td>\n",
       "      <td>146.720001</td>\n",
       "      <td>140.679993</td>\n",
       "      <td>142.479996</td>\n",
       "      <td>142.479996</td>\n",
       "      <td>128138200</td>\n",
       "      <td>AAPL</td>\n",
       "      <td>NaN</td>\n",
       "    </tr>\n",
       "    <tr>\n",
       "      <th>2022-09-30</th>\n",
       "      <td>141.279999</td>\n",
       "      <td>143.100006</td>\n",
       "      <td>138.000000</td>\n",
       "      <td>138.199997</td>\n",
       "      <td>138.199997</td>\n",
       "      <td>124705400</td>\n",
       "      <td>AAPL</td>\n",
       "      <td>NaN</td>\n",
       "    </tr>\n",
       "  </tbody>\n",
       "</table>\n",
       "<p>188 rows × 8 columns</p>\n",
       "</div>"
      ],
      "text/plain": [
       "                  open        high         low       close    adjclose  \\\n",
       "2022-01-03  177.830002  182.880005  177.710007  182.009995  181.259933   \n",
       "2022-01-04  182.630005  182.940002  179.119995  179.699997  178.959442   \n",
       "2022-01-05  179.610001  180.169998  174.639999  174.919998  174.199158   \n",
       "2022-01-06  172.699997  175.300003  171.639999  172.000000  171.291183   \n",
       "2022-01-07  172.889999  174.139999  171.029999  172.169998  171.460495   \n",
       "...                ...         ...         ...         ...         ...   \n",
       "2022-09-26  149.660004  153.770004  149.639999  150.770004  150.770004   \n",
       "2022-09-27  152.740005  154.720001  149.949997  151.759995  151.759995   \n",
       "2022-09-28  147.639999  150.639999  144.839996  149.839996  149.839996   \n",
       "2022-09-29  146.100006  146.720001  140.679993  142.479996  142.479996   \n",
       "2022-09-30  141.279999  143.100006  138.000000  138.199997  138.199997   \n",
       "\n",
       "               volume ticker  5Day_Price_Forecast  \n",
       "2022-01-03  104487900   AAPL           172.190002  \n",
       "2022-01-04   99310400   AAPL           175.080002  \n",
       "2022-01-05   94537600   AAPL           175.529999  \n",
       "2022-01-06   96904000   AAPL           172.190002  \n",
       "2022-01-07   86709100   AAPL           173.070007  \n",
       "...               ...    ...                  ...  \n",
       "2022-09-26   93339400   AAPL                  NaN  \n",
       "2022-09-27   84442700   AAPL                  NaN  \n",
       "2022-09-28  146691400   AAPL                  NaN  \n",
       "2022-09-29  128138200   AAPL                  NaN  \n",
       "2022-09-30  124705400   AAPL                  NaN  \n",
       "\n",
       "[188 rows x 8 columns]"
      ]
     },
     "execution_count": 16,
     "metadata": {},
     "output_type": "execute_result"
    }
   ],
   "source": [
    "#get the stock code\n",
    "df = get_data('AAPL', start_date='2022-1-1', end_date='2022-10-1')\n",
    "future_days =5\n",
    "\n",
    "#create a new column\n",
    "df[str(future_days) + 'Day_Price_Forecast'] = df[['close']].shift(-future_days)\n",
    "df"
   ]
  },
  {
   "cell_type": "markdown",
   "id": "9fb61c09",
   "metadata": {},
   "source": [
    "# Fit Model"
   ]
  },
  {
   "cell_type": "code",
   "execution_count": 17,
   "id": "15ee4300",
   "metadata": {},
   "outputs": [
    {
     "data": {
      "text/plain": [
       "SVR(C=1000.0, gamma=1e-05)"
      ]
     },
     "execution_count": 17,
     "metadata": {},
     "output_type": "execute_result"
    }
   ],
   "source": [
    "X = np.array(df[['close']])\n",
    "X = X[:df.shape[0] - future_days]\n",
    "\n",
    "Y = np.array(df[str(future_days) + 'Day_Price_Forecast'])\n",
    "Y = Y[:- future_days]\n",
    "\n",
    "# split the data\n",
    "from sklearn.model_selection import train_test_split\n",
    "x_train, x_test, y_train, y_test = train_test_split(X,Y,test_size =0.2)\n",
    "\n",
    "from sklearn.svm import SVR\n",
    "svr_rbf = SVR(kernel='rbf', C=1e3, gamma=0.00001)\n",
    "svr_rbf.fit(x_train,y_train)"
   ]
  },
  {
   "cell_type": "markdown",
   "id": "179f1e6d",
   "metadata": {},
   "source": [
    "# Score the model"
   ]
  },
  {
   "cell_type": "code",
   "execution_count": 18,
   "id": "83409682",
   "metadata": {},
   "outputs": [
    {
     "name": "stdout",
     "output_type": "stream",
     "text": [
      "svr_rbf accuracy: 0.6465634809219967\n"
     ]
    }
   ],
   "source": [
    "svr_rbf_confidence = svr_rbf.score(x_test, y_test)\n",
    "print('svr_rbf accuracy:', svr_rbf_confidence)"
   ]
  },
  {
   "cell_type": "markdown",
   "id": "42c7d972",
   "metadata": {},
   "source": [
    "# Prediction & Visualization"
   ]
  },
  {
   "cell_type": "code",
   "execution_count": 19,
   "id": "e4b9ada2",
   "metadata": {},
   "outputs": [
    {
     "data": {
      "image/png": "[encoded data removed]",
      "text/plain": [
       "<Figure size 864x288 with 1 Axes>"
      ]
     },
     "metadata": {
      "needs_background": "light"
     },
     "output_type": "display_data"
    }
   ],
   "source": [
    "#predicted value\n",
    "svm_prediction = svr_rbf.predict(x_test)\n",
    "\n",
    "plt.figure(figsize=(12,4))\n",
    "plt.plot(svm_prediction, label='Predication', lw=2, alpha=.7)\n",
    "plt.plot(y_test, label ='Actual', lw=2, alpha= .7)\n",
    "plt.title('Prediction vs Actual')\n",
    "plt.ylabel('Price iin USD')\n",
    "plt.xlabel('Time')\n",
    "plt.legend()\n",
    "plt.xticks(rotation=45)\n",
    "plt.show()\n"
   ]
  }
 ],
 "metadata": {
  "kernelspec": {
   "display_name": "Python 3 (ipykernel)",
   "language": "python",
   "name": "python3"
  },
  "language_info": {
   "codemirror_mode": {
    "name": "ipython",
    "version": 3
   },
   "file_extension": ".py",
   "mimetype": "text/x-python",
   "name": "python",
   "nbconvert_exporter": "python",
   "pygments_lexer": "ipython3",
   "version": "3.9.12"
  }
 },
 "nbformat": 4,
 "nbformat_minor": 5
}
